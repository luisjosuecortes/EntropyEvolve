{
 "cells": [
  {
   "cell_type": "code",
   "execution_count": 9,
   "id": "92698fab",
   "metadata": {},
   "outputs": [],
   "source": [
    "from prompts import BASE_AGENT_PROMPT\n",
    "import json\n",
    "\n",
    "agents = {\"A\":BASE_AGENT_PROMPT,\n",
    "          \"B\":BASE_AGENT_PROMPT,\n",
    "          \"C\":BASE_AGENT_PROMPT}\n",
    "with open(\"agents.json\",\"w\") as f:\n",
    "    json.dump(agents,f)"
   ]
  }
 ],
 "metadata": {
  "kernelspec": {
   "display_name": ".env",
   "language": "python",
   "name": "python3"
  },
  "language_info": {
   "codemirror_mode": {
    "name": "ipython",
    "version": 3
   },
   "file_extension": ".py",
   "mimetype": "text/x-python",
   "name": "python",
   "nbconvert_exporter": "python",
   "pygments_lexer": "ipython3",
   "version": "3.11.14"
  }
 },
 "nbformat": 4,
 "nbformat_minor": 5
}
